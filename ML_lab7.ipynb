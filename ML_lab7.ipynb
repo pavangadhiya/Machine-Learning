{
  "nbformat": 4,
  "nbformat_minor": 0,
  "metadata": {
    "colab": {
      "provenance": [],
      "mount_file_id": "1G4-ug-UakDSvVVZSlgNmAyEg4iTZ_-5u",
      "authorship_tag": "ABX9TyNvt3kaYOhQAGlg1WjozwpJ",
      "include_colab_link": true
    },
    "kernelspec": {
      "name": "python3",
      "display_name": "Python 3"
    },
    "language_info": {
      "name": "python"
    }
  },
  "cells": [
    {
      "cell_type": "markdown",
      "metadata": {
        "id": "view-in-github",
        "colab_type": "text"
      },
      "source": [
        "<a href=\"https://colab.research.google.com/github/pavangadhiya/Machine-Learning/blob/main/ML_lab7.ipynb\" target=\"_parent\"><img src=\"https://colab.research.google.com/assets/colab-badge.svg\" alt=\"Open In Colab\"/></a>"
      ]
    },
    {
      "cell_type": "code",
      "source": [
        "import pandas as pd\n",
        "import numpy as np\n",
        "import matplotlib.pyplot as plt\n",
        "from sklearn.model_selection import train_test_split\n",
        "from sklearn.preprocessing import StandardScaler\n",
        "import math\n",
        "from sklearn.metrics import accuracy_score, precision_score, recall_score\n",
        "import matplotlib.pyplot as plt\n",
        "\n",
        "sc = StandardScaler()\n",
        "\n",
        "def Sign(num):\n",
        "  if num >= 0.5:\n",
        "    return 1\n",
        "  else:\n",
        "    return 0\n",
        "\n",
        "def Predict(num, theta0, theta1, sign=False):\n",
        "  denominator = (1 + (math.e ** (-(theta0 + (theta1 * num)))))\n",
        "  if sign == True:\n",
        "    return Sign(1 / denominator)\n",
        "  else:\n",
        "    return (1 / denominator)\n",
        "\n",
        "def findProbability(samples):\n",
        "  zeros = 0\n",
        "  count = 0\n",
        "  for x in samples:\n",
        "    if x[0] == 0:\n",
        "      zeros += 1\n",
        "    count += 1\n",
        "  return zeros / count\n",
        "\n",
        "def CalculateLoss(predicted, actual):\n",
        "  pZero = findProbability(actual)\n",
        "  pOnes = 1 - pZero\n",
        "  ans = 0\n",
        "  for i in range(len(predicted)):\n",
        "    left = right = 0\n",
        "    if predicted[i] != 0:\n",
        "      left = (pZero * math.log(predicted[i], 2))\n",
        "    if predicted[i] != 1:\n",
        "      right = (pOnes * (1.0 - predicted[i]))\n",
        "    ans += (-1 * (right + left))\n",
        "  return ans\n",
        "\n",
        "data = pd.read_csv(\"/content/drive/MyDrive/sem 6 labs/ML/BuyComputer.csv\")\n",
        "data.drop(columns=[\"User ID\",], axis=1, inplace=True)\n",
        "\n",
        "labels = data.iloc[:,-1]\n",
        "features = data.iloc[:,:-1]\n",
        "\n",
        "age = data[\"Age\"]\n",
        "EstimatedSalary = data[\"EstimatedSalary\"]\n",
        "\n",
        "labels = list(zip(labels))\n",
        "features = list(zip(age, EstimatedSalary))\n",
        "\n",
        "trainFeatures, testFeatures, trainLabels, testLabels = train_test_split(features, labels, test_size=0.4)\n",
        "trainFeatures = sc.fit_transform(trainFeatures)\n",
        "testFeatures = sc.fit_transform(testFeatures)\n",
        "\n",
        "weight = [[2] for _ in range(2)]\n",
        "bias = [[0.2] for _ in range(len(trainFeatures))]\n",
        "\n",
        "op = trainFeatures.dot(weight)\n",
        "hypothesis = op + bias\n",
        "\n",
        "predictedOutput = []\n",
        "\n",
        "# learning rate\n",
        "alpha = 0.0001\n",
        "rows, cols = trainFeatures.shape\n",
        "theta0 = theta1 = 0\n",
        "\n",
        "losses = []\n",
        "epochs = []\n",
        "\n",
        "for _ in range(900):\n",
        "  sigma0 = sigma1 = 0\n",
        "  predictedOutput = []\n",
        "  for i in range(len(hypothesis)):\n",
        "    prediction = Predict(hypothesis[i], theta0, theta1, sign=False)\n",
        "    predictedOutput.append(prediction)\n",
        "    label = list(trainLabels[i])\n",
        "    sigma0 += (Sign(prediction) - int(label[0]))\n",
        "    sigma1 += ((Sign(prediction) - int(label[0])) * hypothesis[i])\n",
        "  theta0 -= (alpha * sigma0)\n",
        "  theta1 -= (alpha * sigma1)\n",
        "  if _ % 123 == 0:\n",
        "    losses.append(CalculateLoss(predictedOutput, trainLabels))\n",
        "    epochs.append((_ + 1))\n",
        "\n",
        "print(losses)\n",
        "\n",
        "row, col = testFeatures.shape\n",
        "bias = [[0.2] for _ in range(len(testFeatures))]\n",
        "\n",
        "op = testFeatures.dot(weight)\n",
        "hypothesis = op + bias\n",
        "\n",
        "predictedOutput = []\n",
        "\n",
        "for i in range(len(hypothesis)):\n",
        "  prediction = Predict(hypothesis[i], theta0, theta1, sign=True)\n",
        "  predictedOutput.append(prediction)\n",
        "\n",
        "question = np.array([28, 76000])\n",
        "question = question.dot(weight)\n",
        "question = (question + [.2])\n",
        "print(Predict(question, theta0, theta1, sign=True))\n",
        "\n",
        "print('Accuracy {}'.format(accuracy_score(testLabels, predictedOutput)))\n",
        "print('Precision {}'.format(precision_score(testLabels, predictedOutput)))\n",
        "print('Recall {}'.format(recall_score(testLabels, predictedOutput)))\n",
        "\n",
        "plt.plot(epochs, losses)\n",
        "  \n",
        "# naming the x axis\n",
        "plt.xlabel('Epochs')\n",
        "# naming the y axis\n",
        "plt.ylabel('Loss')\n",
        "  \n",
        "# giving a title to my graph\n",
        "plt.title('Epochs vs Loss')\n",
        "  \n",
        "# function to show the plot\n",
        "plt.show()"
      ],
      "metadata": {
        "colab": {
          "base_uri": "https://localhost:8080/",
          "height": 382
        },
        "id": "KBEkUOfa3REI",
        "outputId": "83c72b21-ebdd-461d-8caf-ea8b448791f8"
      },
      "execution_count": 2,
      "outputs": [
        {
          "output_type": "stream",
          "name": "stdout",
          "text": [
            "[array([106.5]), array([107.14713279]), array([107.05359258]), array([106.87873651]), array([106.36812138]), array([107.2155169]), array([106.23884118]), array([106.78166918])]\n",
            "0\n",
            "Accuracy 0.19375\n",
            "Precision 0.1134020618556701\n",
            "Recall 0.2037037037037037\n"
          ]
        },
        {
          "output_type": "display_data",
          "data": {
            "text/plain": [
              "<Figure size 432x288 with 1 Axes>"
            ],
            "image/png": "[encoded data removed]"
          },
          "metadata": {
            "needs_background": "light"
          }
        }
      ]
    },
    {
      "cell_type": "code",
      "source": [
        "from sklearn.linear_model import LogisticRegression\n",
        "import pandas as pd\n",
        "import numpy as np\n",
        "import matplotlib.pyplot as plt\n",
        "from sklearn.model_selection import train_test_split\n",
        "\n",
        "data = pd.read_csv(\"/content/drive/MyDrive/sem 6 labs/ML/BuyComputer.csv\")\n",
        "\n",
        "labels = data['Purchased']\n",
        "features = data.drop(columns=['Purchased', 'User ID'], axis=1)\n",
        "\n",
        "trainF, testF, trainL, testL = train_test_split(features, labels, random_state=7, test_size=0.3)\n",
        "\n",
        "model = LogisticRegression(random_state=132, max_iter=1000)\n",
        "model.fit(trainF, trainL)\n",
        "\n",
        "print(model.predict([(28, 76000)]))\n",
        "\n",
        "predicted = model.predict(testF)\n",
        "\n",
        "print('Accuracy {}'.format(accuracy_score(testL, predicted)))\n",
        "print('Precision {}'.format(precision_score(testL, predicted)))\n",
        "print('Recall {}'.format(recall_score(testL, predicted)))"
      ],
      "metadata": {
        "colab": {
          "base_uri": "https://localhost:8080/"
        },
        "id": "gT9anl3o3yxG",
        "outputId": "707c0651-0aa1-4c53-c838-f2e04e450363"
      },
      "execution_count": 4,
      "outputs": [
        {
          "output_type": "stream",
          "name": "stdout",
          "text": [
            "[0]\n",
            "Accuracy 0.875\n",
            "Precision 0.75\n",
            "Recall 0.8918918918918919\n"
          ]
        },
        {
          "output_type": "stream",
          "name": "stderr",
          "text": [
            "/usr/local/lib/python3.8/dist-packages/sklearn/base.py:450: UserWarning: X does not have valid feature names, but LogisticRegression was fitted with feature names\n",
            "  warnings.warn(\n"
          ]
        }
      ]
    }
  ]
}