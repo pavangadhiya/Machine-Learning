{
  "nbformat": 4,
  "nbformat_minor": 0,
  "metadata": {
    "colab": {
      "provenance": [],
      "authorship_tag": "ABX9TyN8CVMcLdwlgNd8FvGXId8Q",
      "include_colab_link": true
    },
    "kernelspec": {
      "name": "python3",
      "display_name": "Python 3"
    },
    "language_info": {
      "name": "python"
    }
  },
  "cells": [
    {
      "cell_type": "markdown",
      "metadata": {
        "id": "view-in-github",
        "colab_type": "text"
      },
      "source": [
        "<a href=\"https://colab.research.google.com/github/pavangadhiya/Machine-Learning/blob/main/ML_lab7.ipynb\" target=\"_parent\"><img src=\"https://colab.research.google.com/assets/colab-badge.svg\" alt=\"Open In Colab\"/></a>"
      ]
    },
    {
      "cell_type": "code",
      "execution_count": 1,
      "metadata": {
        "id": "Y5e-Ueera4cu"
      },
      "outputs": [],
      "source": [
        "#Importing libraries\n",
        "import numpy as np\n",
        "import pandas as pd\n",
        "import io\n",
        "import matplotlib.pyplot as plt"
      ]
    },
    {
      "cell_type": "code",
      "source": [
        "from google.colab import files\n",
        "uploaded = files.upload()\n",
        "data = pd.read_csv(io.BytesIO(uploaded['BuyComputer.csv']))\n",
        "data.drop(columns=['User ID',],axis=1,inplace=True)\n",
        "data.head()"
      ],
      "metadata": {
        "id": "Qo_fFpTMbDTs"
      },
      "execution_count": null,
      "outputs": []
    },
    {
      "cell_type": "code",
      "source": [
        "#Declare label as last column in the source file\n",
        "\n",
        "# input --> all columns except last one.\n",
        "x = data.iloc[:, :-1].values\n",
        "  \n",
        "# output  --> label as last column\n",
        "y = data.iloc[:, 2].values\n",
        "\n",
        "print(x[0])\n",
        "# print(y)\n"
      ],
      "metadata": {
        "id": "lcOH99KUcJbZ"
      },
      "execution_count": null,
      "outputs": []
    },
    {
      "cell_type": "code",
      "source": [
        "# Splitting data\n",
        "from sklearn.model_selection import train_test_split\n",
        "X_train, X_test, y_train, y_test = train_test_split(x, y, test_size = 0.25, random_state = 0)\n"
      ],
      "metadata": {
        "id": "qORUq3YYcJ4z"
      },
      "execution_count": null,
      "outputs": []
    },
    {
      "cell_type": "code",
      "source": [
        "from sklearn.preprocessing import StandardScaler\n",
        "sc = StandardScaler()\n",
        "X_train = sc.fit_transform(X_train)\n",
        "X_test = sc.transform(X_test)\n",
        "\n",
        "print (X_train[0:10, :])"
      ],
      "metadata": {
        "id": "2eQCaFTHcMhS"
      },
      "execution_count": null,
      "outputs": []
    },
    {
      "cell_type": "code",
      "source": [
        "#Variabes to calculate sigmoid function\n",
        "y_pred = []\n",
        "len_x = len(X_train[0])\n",
        "w = []\n",
        "b = 0.2\n",
        "print(len_x)"
      ],
      "metadata": {
        "id": "l_seV4bOcPMF"
      },
      "execution_count": null,
      "outputs": []
    },
    {
      "cell_type": "code",
      "source": [
        "entries = len(X_train[:,0])\n",
        "entries"
      ],
      "metadata": {
        "id": "9J3puF1CcRcw"
      },
      "execution_count": null,
      "outputs": []
    },
    {
      "cell_type": "code",
      "source": [
        "for weights in range(len_x):\n",
        "    w.append(0)\n",
        "w"
      ],
      "metadata": {
        "id": "TpXuDFd-cU3l"
      },
      "execution_count": null,
      "outputs": []
    },
    {
      "cell_type": "code",
      "source": [
        "# Sigmoid function\n",
        "import torch\n",
        "\n",
        "x_bar = []\n",
        "y_bar = []\n",
        "\n",
        "def sigmoid(x, theta):\n",
        "  z = x @ np.transpose(theta)\n",
        "  x_bar.append(z)\n",
        "  y_bar.append(1/(1 + np.exp(-z)))\n",
        "\n",
        "for i in range(0, 500):\n",
        "    theta =  np.random.rand(1,2)\n",
        "    for x in X_train:\n",
        "      sigmoid(x, theta)\n",
        "\n",
        "plt.plot(x_bar, y_bar)\n",
        "plt.show() "
      ],
      "metadata": {
        "id": "CXYLuZxgcXjq"
      },
      "execution_count": null,
      "outputs": []
    },
    {
      "cell_type": "code",
      "source": [
        "def loss_func(y,a):\n",
        "   pass"
      ],
      "metadata": {
        "id": "P8coPtHVccNx"
      },
      "execution_count": null,
      "outputs": []
    }
  ]
}