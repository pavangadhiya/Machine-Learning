{
  "nbformat": 4,
  "nbformat_minor": 0,
  "metadata": {
    "colab": {
      "provenance": [],
      "authorship_tag": "ABX9TyPT6b+PYsZIURWAgsbbIFCP",
      "include_colab_link": true
    },
    "kernelspec": {
      "name": "python3",
      "display_name": "Python 3"
    },
    "language_info": {
      "name": "python"
    }
  },
  "cells": [
    {
      "cell_type": "markdown",
      "metadata": {
        "id": "view-in-github",
        "colab_type": "text"
      },
      "source": [
        "<a href=\"https://colab.research.google.com/github/pavangadhiya/Machine-Learning/blob/main/ML_lab8.ipynb\" target=\"_parent\"><img src=\"https://colab.research.google.com/assets/colab-badge.svg\" alt=\"Open In Colab\"/></a>"
      ]
    },
    {
      "cell_type": "code",
      "execution_count": null,
      "metadata": {
        "id": "YaZYIT9y1nuv"
      },
      "outputs": [],
      "source": [
        "# Imports\n",
        "from sklearn.datasets import make_blobs\n",
        "X, _ = make_blobs(n_samples=100, centers=3, n_features=2,\n",
        "cluster_std=0.2, random_state=0)"
      ]
    },
    {
      "cell_type": "code",
      "source": [
        "# Scatter plot of the data points\n",
        "import matplotlib.pyplot as plt\n",
        "%matplotlib inline"
      ],
      "metadata": {
        "id": "lnW1WOMj1wR_"
      },
      "execution_count": null,
      "outputs": []
    },
    {
      "cell_type": "code",
      "source": [
        "# Using scikit-learn to perform K-Means clustering\n",
        "from sklearn.cluster import KMeans\n",
        "# Specify the number of clusters (3) and fit the data X"
      ],
      "metadata": {
        "id": "WGgXL2An1z5O"
      },
      "execution_count": null,
      "outputs": []
    },
    {
      "cell_type": "code",
      "source": [
        "from sklearn.cluster import KMeans\n",
        "\n",
        "# data = list(zip(x, y))\n",
        "inertias = []\n",
        "\n",
        "for i in range(1,11):\n",
        "    kmeans = KMeans(n_clusters=i)\n",
        "    kmeans.fit(X)\n",
        "    inertias.append(kmeans.inertia_)\n",
        "\n",
        "plt.plot(range(1,11), inertias, marker='o')\n",
        "plt.title('Elbow method')\n",
        "plt.xlabel('Number of clusters')\n",
        "plt.ylabel('Inertia')\n",
        "plt.show()"
      ],
      "metadata": {
        "colab": {
          "base_uri": "https://localhost:8080/",
          "height": 295
        },
        "id": "UZzDmguU52jx",
        "outputId": "9b97e117-fc11-41c9-d296-96324d76d84c"
      },
      "execution_count": null,
      "outputs": [
        {
          "output_type": "display_data",
          "data": {
            "text/plain": [
              "<Figure size 432x288 with 1 Axes>"
            ],
            "image/png": "[encoded data removed]"
          },
          "metadata": {
            "needs_background": "light"
          }
        }
      ]
    },
    {
      "cell_type": "code",
      "source": [
        "# Specify the number of clusters (3) and fit the data X\n",
        "kmeans = KMeans(n_clusters=3)\n",
        "kmeans.fit(X)\n",
        "\n",
        "plt.scatter(x=[x1[0] for x1 in X],\n",
        "            y=[x1[1] for x1 in X],\n",
        "            c=kmeans.labels_)\n",
        "plt.xlabel(\"x\")\n",
        "plt.ylabel(\"y\")\n",
        "plt.show()"
      ],
      "metadata": {
        "colab": {
          "base_uri": "https://localhost:8080/",
          "height": 279
        },
        "id": "AMK3dCbU6wdQ",
        "outputId": "9d3bdc26-0381-4581-a17a-28ee686d6a77"
      },
      "execution_count": null,
      "outputs": [
        {
          "output_type": "display_data",
          "data": {
            "text/plain": [
              "<Figure size 432x288 with 1 Axes>"
            ],
            "image/png": "[encoded data removed]"
          },
          "metadata": {
            "needs_background": "light"
          }
        }
      ]
    },
    {
      "cell_type": "code",
      "source": [
        "# Get the cluster labels\n",
        "print(kmeans.labels_)"
      ],
      "metadata": {
        "colab": {
          "base_uri": "https://localhost:8080/"
        },
        "id": "sPDDr6yU74ln",
        "outputId": "049ff0f9-6920-4c1f-a907-47c7678d1a9d"
      },
      "execution_count": null,
      "outputs": [
        {
          "output_type": "stream",
          "name": "stdout",
          "text": [
            "[0 2 0 2 2 2 1 1 0 2 2 2 0 2 1 0 1 2 1 1 1 1 1 2 0 0 0 0 1 1 2 0 0 2 1 1 2\n",
            " 0 0 1 1 0 0 2 2 2 0 0 1 1 1 0 2 0 1 1 0 0 2 0 0 1 1 1 1 0 2 1 0 2 1 2 2 0\n",
            " 0 2 2 2 1 0 2 2 0 2 0 2 2 2 0 2 0 0 1 1 1 1 2 2 1 1]\n"
          ]
        }
      ]
    },
    {
      "cell_type": "code",
      "source": [
        "# Get the cluster centroids\n",
        "import numpy as np\n",
        "centers = np.array(kmeans.cluster_centers_)\n",
        "print(centers)"
      ],
      "metadata": {
        "colab": {
          "base_uri": "https://localhost:8080/"
        },
        "id": "uX7kgRyB-MN6",
        "outputId": "16b9f087-2856-4a34-84ff-5663be78f8a5"
      },
      "execution_count": null,
      "outputs": [
        {
          "output_type": "stream",
          "name": "stdout",
          "text": [
            "[[ 2.0720792   0.98848385]\n",
            " [-1.538563    2.91165191]\n",
            " [ 0.95164831  4.28882085]]\n"
          ]
        }
      ]
    },
    {
      "cell_type": "code",
      "source": [
        "# Plotting the cluster centers and the data points on a 2D plane\n",
        "\n",
        "plt.scatter(X[:,0],X[:,-1],c=kmeans.labels_)\n",
        "plt.scatter(centers[:,0], centers[:,1], marker=\"x\", color='r')"
      ],
      "metadata": {
        "colab": {
          "base_uri": "https://localhost:8080/",
          "height": 283
        },
        "id": "icwg_s0g-wLQ",
        "outputId": "3ead99f0-9de4-457f-9629-041daed8bbe0"
      },
      "execution_count": null,
      "outputs": [
        {
          "output_type": "execute_result",
          "data": {
            "text/plain": [
              "<matplotlib.collections.PathCollection at 0x7f635a24c700>"
            ]
          },
          "metadata": {},
          "execution_count": 65
        },
        {
          "output_type": "display_data",
          "data": {
            "text/plain": [
              "<Figure size 432x288 with 1 Axes>"
            ],
            "image/png": "[encoded data removed]"
          },
          "metadata": {
            "needs_background": "light"
          }
        }
      ]
    },
    {
      "cell_type": "code",
      "source": [
        "# Calculate silhouette_score\n",
        "\n",
        "#  silhouette score\n",
        "from sklearn.metrics import silhouette_score\n",
        "\n",
        "silhouette_avg = silhouette_score(X, kmeans.labels_)\n",
        "print(\"For n_clusters =\",3,\"The average silhouette_score is :\",silhouette_avg)"
      ],
      "metadata": {
        "colab": {
          "base_uri": "https://localhost:8080/"
        },
        "id": "aA6qyxu1B6wK",
        "outputId": "b2a29666-a385-454e-82e6-9fb61e8a4138"
      },
      "execution_count": null,
      "outputs": [
        {
          "output_type": "stream",
          "name": "stdout",
          "text": [
            "For n_clusters = 3 The average silhouette_score is : 0.8816040239688525\n"
          ]
        }
      ]
    },
    {
      "cell_type": "code",
      "source": [
        "import matplotlib.pyplot as plt\n",
        "import numpy as np\n",
        "from sklearn.cluster import KMeans\n",
        "#x = np.array([5,7,8,7,2,17,2,9,4,11,12,9,6])\n",
        "X1 = np.array([[2,2],[3,4],[6,7],[5,5],[3,3],[12,13]])\n",
        "#X1.shape()\n",
        "X2 = np.array([2,3,4])\n",
        "plt.scatter(X1[:,0], X1[:,1])\n",
        "centroid = np.array([[2,2],[3,4],[6,7]])\n",
        "kmeans = KMeans(n_clusters=3, init=centroid).fit(X1)\n",
        "kmeans.cluster_centers_\n",
        "kmeans.labels_\n",
        "#print(\"Number of iterations \" , kmeans.n_iter_)\n",
        "kmeans.predict([[8,8]])"
      ],
      "metadata": {
        "colab": {
          "base_uri": "https://localhost:8080/",
          "height": 320
        },
        "id": "ctM41Y_KExSb",
        "outputId": "cc5654e1-842a-44d0-eb6b-b3e7ecdb22a8"
      },
      "execution_count": null,
      "outputs": [
        {
          "output_type": "stream",
          "name": "stderr",
          "text": [
            "/usr/local/lib/python3.8/dist-packages/sklearn/cluster/_kmeans.py:1146: RuntimeWarning: Explicit initial center position passed: performing only one init in KMeans instead of n_init=10.\n",
            "  self._check_params(X)\n"
          ]
        },
        {
          "output_type": "execute_result",
          "data": {
            "text/plain": [
              "array([1], dtype=int32)"
            ]
          },
          "metadata": {},
          "execution_count": 75
        },
        {
          "output_type": "display_data",
          "data": {
            "text/plain": [
              "<Figure size 432x288 with 1 Axes>"
            ],
            "image/png": "[encoded data removed]"
          },
          "metadata": {
            "needs_background": "light"
          }
        }
      ]
    },
    {
      "cell_type": "code",
      "source": [
        "# Hand Written Digit Recognition\n",
        "\n",
        "import numpy as np # linear algebra\n",
        "import pandas as pd # data processing, CSV file I/O (e.g. pd.read_csv)\n",
        "from sklearn.cluster import KMeans\n",
        "from sklearn.datasets import load_digits\n",
        "#digits dataset from scikit learn consists of 8x8 pixel images of digits\n",
        "#Data plotting and visualization libraries\n",
        "import matplotlib.pyplot as plt\n",
        "import seaborn as sns\n",
        "from scipy.stats import mode\n",
        "from sklearn.metrics import accuracy_score, confusion_matrix\n",
        "\n",
        "digits = load_digits() #load the dataset in digits\n",
        "# print(digits)"
      ],
      "metadata": {
        "id": "ikzZof62FFPJ"
      },
      "execution_count": null,
      "outputs": []
    },
    {
      "cell_type": "code",
      "source": [
        "digits.keys() #Dataset loaded is a dictionary\n",
        "# data : flattened arrays/tensors used for clustering\n",
        "# target : label associated with flattened array\n",
        "#print(digits.target)\n",
        "\n",
        "digits.data[0:3] #flattened data for 3 images of the dataset"
      ],
      "metadata": {
        "colab": {
          "base_uri": "https://localhost:8080/"
        },
        "id": "yr4DOA--FU3R",
        "outputId": "1ef610b6-29ea-47d5-a29a-2b7ce1fecc3a"
      },
      "execution_count": null,
      "outputs": [
        {
          "output_type": "execute_result",
          "data": {
            "text/plain": [
              "array([[ 0.,  0.,  5., 13.,  9.,  1.,  0.,  0.,  0.,  0., 13., 15., 10.,\n",
              "        15.,  5.,  0.,  0.,  3., 15.,  2.,  0., 11.,  8.,  0.,  0.,  4.,\n",
              "        12.,  0.,  0.,  8.,  8.,  0.,  0.,  5.,  8.,  0.,  0.,  9.,  8.,\n",
              "         0.,  0.,  4., 11.,  0.,  1., 12.,  7.,  0.,  0.,  2., 14.,  5.,\n",
              "        10., 12.,  0.,  0.,  0.,  0.,  6., 13., 10.,  0.,  0.,  0.],\n",
              "       [ 0.,  0.,  0., 12., 13.,  5.,  0.,  0.,  0.,  0.,  0., 11., 16.,\n",
              "         9.,  0.,  0.,  0.,  0.,  3., 15., 16.,  6.,  0.,  0.,  0.,  7.,\n",
              "        15., 16., 16.,  2.,  0.,  0.,  0.,  0.,  1., 16., 16.,  3.,  0.,\n",
              "         0.,  0.,  0.,  1., 16., 16.,  6.,  0.,  0.,  0.,  0.,  1., 16.,\n",
              "        16.,  6.,  0.,  0.,  0.,  0.,  0., 11., 16., 10.,  0.,  0.],\n",
              "       [ 0.,  0.,  0.,  4., 15., 12.,  0.,  0.,  0.,  0.,  3., 16., 15.,\n",
              "        14.,  0.,  0.,  0.,  0.,  8., 13.,  8., 16.,  0.,  0.,  0.,  0.,\n",
              "         1.,  6., 15., 11.,  0.,  0.,  0.,  1.,  8., 13., 15.,  1.,  0.,\n",
              "         0.,  0.,  9., 16., 16.,  5.,  0.,  0.,  0.,  0.,  3., 13., 16.,\n",
              "        16., 11.,  5.,  0.,  0.,  0.,  0.,  3., 11., 16.,  9.,  0.]])"
            ]
          },
          "metadata": {},
          "execution_count": 81
        }
      ]
    },
    {
      "cell_type": "code",
      "source": [
        "digits = load_digits()\n",
        "# print(digits.data)\n",
        "# print(digits.target)\n",
        "\n",
        "plt.gray() \n",
        "\n",
        "plt.matshow(digits.images[10])\n",
        "\n",
        "plt.show()\n",
        "# print(digits.target[10])\n",
        "\n",
        "#Figure size (width, height)\n",
        "fig = plt.figure(figsize=(6, 6))\n",
        "\n",
        "#Adjust the subplots \n",
        "fig.subplots_adjust(left=0, right=1, bottom=0, top=1, hspace=0.05, wspace=0.05)\n",
        "\n",
        "#For each of the 64 images\n",
        "for i in range(64):\n",
        "\n",
        "    #Initialize the subplots: add a subplot in the grid of 8 by 8, at the i+1-th position\n",
        "    ax = fig.add_subplot(8, 8, i+1, xticks=[], yticks=[])\n",
        "\n",
        "    #Display an image at the i-th position\n",
        "    ax.imshow(digits.images[i], cmap=plt.cm.binary, interpolation='nearest')\n",
        "\n",
        "    #Label the image with the target value\n",
        "    ax.text(0, 7, str(digits.target[i]))\n",
        "\n",
        "plt.show()\n",
        "\n",
        "model = KMeans(n_clusters=10, random_state=45)\n",
        "model.fit(digits.data)\n",
        "\n",
        "plt.figure(figsize=(8, 3))\n",
        "plt.suptitle('Cluster Center Images', fontsize=14, fontweight='bold')\n",
        "\n",
        "for i in range(10):\n",
        "  ax = fig.add_subplot(2, 5, 1 + i, xticks=[], yticks=[])\n",
        "\n",
        "  #Display images\n",
        "  ax.imshow(model.cluster_centers_[i].reshape((8, 8)),  cmap=plt.cm.binary)\n",
        "plt.show()\n",
        "\n",
        "#Instead of passing a test dataset, I generated a random array by drawing 4 digits- '2131'\n",
        "new_samples = np.array([\n",
        "[0.00,1.07,4.80,5.34,3.97,0.00,0.00,0.00,0.00,3.05,7.62,6.40,7.63,1.60,0.00,0.00,0.00,2.29,6.41,0.99,7.62,2.29,0.00,0.00,0.00,0.00,0.00,2.36,7.62,2.14,0.00,0.00,0.00,0.00,3.81,7.47,6.48,0.30,0.00,0.00,0.00,2.52,7.62,7.47,4.42,3.59,0.15,0.00,0.00,3.58,7.62,7.62,7.24,6.64,0.46,0.00,0.00,0.15,0.76,0.61,0.00,0.00,0.00,0.00],\n",
        "[0.00,3.05,6.79,2.21,0.08,0.00,0.00,0.00,0.99,7.55,7.55,7.62,7.24,2.98,0.00,0.00,2.29,7.62,1.75,2.82,6.33,7.02,0.31,0.00,4.42,7.62,0.53,0.00,2.52,7.62,1.45,0.00,5.34,7.09,0.38,0.00,2.59,7.62,1.45,0.00,2.52,7.63,6.18,3.96,7.09,6.79,0.30,0.00,0.00,3.13,6.41,6.86,5.95,1.45,0.00,0.00,0.00,0.00,0.00,0.00,0.00,0.00,0.00,0.00],\n",
        "[0.00,0.00,0.38,0.23,0.00,0.00,0.00,0.00,0.00,0.07,6.63,4.58,2.06,0.00,0.00,0.00,0.00,1.91,7.62,5.19,7.62,0.76,0.00,0.00,0.00,4.95,7.62,5.19,7.62,6.10,2.59,0.00,0.00,6.63,7.62,7.32,7.62,5.57,1.91,0.00,0.00,0.46,0.69,2.29,7.62,1.15,0.00,0.00,0.00,0.00,0.00,1.83,7.63,1.83,0.00,0.00,0.00,0.00,0.00,0.00,0.00,0.00,0.00,0.00],\n",
        "[0.00,1.22,1.52,0.61,0.00,0.00,0.00,0.00,2.44,7.62,7.62,7.63,3.74,0.00,0.00,0.00,7.17,6.25,1.83,5.57,7.24,1.60,0.00,0.00,7.62,2.06,0.00,0.76,6.94,5.34,0.00,0.00,7.62,0.30,0.00,0.69,6.79,5.34,0.00,0.00,7.62,5.34,3.81,6.33,7.32,1.60,0.00,0.00,3.97,6.86,6.86,6.63,1.98,0.00,0.00,0.00,0.00,0.00,0.00,0.00,0.00,0.00,0.00,0.00]\n",
        "])\n",
        "\n",
        "#Predicting labels\n",
        "new_labels = model.predict(new_samples)\n",
        "\n",
        "for i in range(len(new_labels)):\n",
        "  if new_labels[i] == 0:\n",
        "    print(0, end='')\n",
        "  elif new_labels[i] == 1:\n",
        "    print(9, end='')\n",
        "  elif new_labels[i] == 2:\n",
        "    print(2, end='')\n",
        "  elif new_labels[i] == 3:\n",
        "    print(1, end='')\n",
        "  elif new_labels[i] == 4:\n",
        "    print(6, end='')\n",
        "  elif new_labels[i] == 5:\n",
        "    print(8, end='')\n",
        "  elif new_labels[i] == 6:\n",
        "    print(4, end='')\n",
        "  elif new_labels[i] == 7:\n",
        "    print(5, end='')\n",
        "  elif new_labels[i] == 8:\n",
        "    print(7, end='')\n",
        "  elif new_labels[i] == 9:\n",
        "    print(3, end='')"
      ],
      "metadata": {
        "colab": {
          "base_uri": "https://localhost:8080/",
          "height": 779
        },
        "id": "TwA43-fiIoFj",
        "outputId": "6560049c-9bf3-4395-aecf-581a1aa5db5f"
      },
      "execution_count": null,
      "outputs": [
        {
          "output_type": "display_data",
          "data": {
            "text/plain": [
              "<Figure size 432x288 with 0 Axes>"
            ]
          },
          "metadata": {}
        },
        {
          "output_type": "display_data",
          "data": {
            "text/plain": [
              "<Figure size 288x288 with 1 Axes>"
            ],
            "image/png": "[encoded data removed]"
          },
          "metadata": {
            "needs_background": "light"
          }
        },
        {
          "output_type": "display_data",
          "data": {
            "text/plain": [
              "<Figure size 432x432 with 64 Axes>"
            ],
            "image/png": "[encoded data removed]"
          },
          "metadata": {}
        },
        {
          "output_type": "display_data",
          "data": {
            "text/plain": [
              "<Figure size 576x216 with 0 Axes>"
            ]
          },
          "metadata": {}
        },
        {
          "output_type": "stream",
          "name": "stdout",
          "text": [
            "6727"
          ]
        }
      ]
    }
  ]
}