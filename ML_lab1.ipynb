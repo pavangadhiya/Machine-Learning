{
  "nbformat": 4,
  "nbformat_minor": 0,
  "metadata": {
    "colab": {
      "provenance": [],
      "authorship_tag": "ABX9TyPOLutfcrf6/eSa+W3xSUXL",
      "include_colab_link": true
    },
    "kernelspec": {
      "name": "python3",
      "display_name": "Python 3"
    },
    "language_info": {
      "name": "python"
    }
  },
  "cells": [
    {
      "cell_type": "markdown",
      "metadata": {
        "id": "view-in-github",
        "colab_type": "text"
      },
      "source": [
        "<a href=\"https://colab.research.google.com/github/pavangadhiya/Machine-Learning/blob/main/ML_lab1.ipynb\" target=\"_parent\"><img src=\"https://colab.research.google.com/assets/colab-badge.svg\" alt=\"Open In Colab\"/></a>"
      ]
    },
    {
      "cell_type": "code",
      "execution_count": null,
      "metadata": {
        "id": "I61OGvYaYWbj"
      },
      "outputs": [],
      "source": [
        "import numpy as np"
      ]
    },
    {
      "cell_type": "code",
      "source": [],
      "metadata": {
        "id": "TM_cxCOET_xE"
      },
      "execution_count": null,
      "outputs": []
    },
    {
      "cell_type": "code",
      "source": [
        "x = 6\n",
        "print(x,\"TYPE: \",type(x))\n",
        "\n",
        "x = \"Hiii ML\"\n",
        "print(x,\"TYPE: \",type(x))\n",
        "\n",
        "x = [1,2,3,4]\n",
        "print(x,\"TYPE: \",type(x))"
      ],
      "metadata": {
        "colab": {
          "base_uri": "https://localhost:8080/"
        },
        "id": "PBs2Q7MZYp1L",
        "outputId": "59a33141-1723-4b44-da78-ad440e56a1ce"
      },
      "execution_count": null,
      "outputs": [
        {
          "output_type": "stream",
          "name": "stdout",
          "text": [
            "6 TYPE:  <class 'int'>\n",
            "Hiii ML TYPE:  <class 'str'>\n",
            "[1, 2, 3, 4] TYPE:  <class 'list'>\n"
          ]
        }
      ]
    },
    {
      "cell_type": "code",
      "source": [
        "alist = [1, 2, 3, 4, 5] \n",
        "narray = np.array([1, 2, 3, 4]) \n",
        "\n",
        "print(alist)\n",
        "print(narray)\n",
        "print(type(alist))\n",
        "print(type(narray))"
      ],
      "metadata": {
        "colab": {
          "base_uri": "https://localhost:8080/"
        },
        "id": "TosiMupgZBvy",
        "outputId": "23fb35f8-b65a-4013-a1b7-096631a03139"
      },
      "execution_count": null,
      "outputs": [
        {
          "output_type": "stream",
          "name": "stdout",
          "text": [
            "[1, 2, 3, 4, 5]\n",
            "[1 2 3 4]\n",
            "<class 'list'>\n",
            "<class 'numpy.ndarray'>\n"
          ]
        }
      ]
    },
    {
      "cell_type": "code",
      "source": [
        "print(narray + narray)        #vector addtion\n",
        "print(alist + alist)          #vector appened"
      ],
      "metadata": {
        "colab": {
          "base_uri": "https://localhost:8080/"
        },
        "id": "ZnT5MTnLZbzS",
        "outputId": "35dd9b73-8cb0-4a28-a83a-0a2c6d283c8d"
      },
      "execution_count": null,
      "outputs": [
        {
          "output_type": "stream",
          "name": "stdout",
          "text": [
            "[2 4 6 8]\n",
            "[1, 2, 3, 4, 5, 1, 2, 3, 4, 5]\n"
          ]
        }
      ]
    },
    {
      "cell_type": "code",
      "source": [
        "print(alist*3)    #3 times appended\n",
        "print(narray*3)   #scalar multiplication"
      ],
      "metadata": {
        "colab": {
          "base_uri": "https://localhost:8080/"
        },
        "id": "NBZtij1bZzgp",
        "outputId": "f246094a-0b46-444f-c78a-4449804c85e5"
      },
      "execution_count": null,
      "outputs": [
        {
          "output_type": "stream",
          "name": "stdout",
          "text": [
            "[1, 2, 3, 4, 5, 1, 2, 3, 4, 5, 1, 2, 3, 4, 5]\n",
            "[ 3  6  9 12]\n"
          ]
        }
      ]
    },
    {
      "cell_type": "code",
      "source": [
        "x = np.array([[1,2],[3,4]], dtype=np.int32)\n",
        "y = np.array([[5,6],[7,8]], dtype=np.int32)\n",
        "# Elementwise sum; both produce the array\n",
        "print(x + y)\n",
        "print(np.add(x, y))"
      ],
      "metadata": {
        "colab": {
          "base_uri": "https://localhost:8080/"
        },
        "id": "7LiHd7lcaQED",
        "outputId": "8a9074ac-8153-4b6b-e79d-02e811465b09"
      },
      "execution_count": null,
      "outputs": [
        {
          "output_type": "stream",
          "name": "stdout",
          "text": [
            "[[ 6  8]\n",
            " [10 12]]\n",
            "[[ 6  8]\n",
            " [10 12]]\n"
          ]
        }
      ]
    },
    {
      "cell_type": "code",
      "source": [
        "print(x - y)\n",
        "print(np.subtract(x, y))"
      ],
      "metadata": {
        "colab": {
          "base_uri": "https://localhost:8080/"
        },
        "id": "n959B1gga8SD",
        "outputId": "f74eea16-1a2f-454c-b26c-7e4aeba58840"
      },
      "execution_count": null,
      "outputs": [
        {
          "output_type": "stream",
          "name": "stdout",
          "text": [
            "[[-4 -4]\n",
            " [-4 -4]]\n",
            "[[-4 -4]\n",
            " [-4 -4]]\n"
          ]
        }
      ]
    },
    {
      "cell_type": "code",
      "source": [
        "# Elementwise product;\n",
        "print(x * y)\n",
        "print(np.multiply(x, y))"
      ],
      "metadata": {
        "colab": {
          "base_uri": "https://localhost:8080/"
        },
        "id": "u3nw8jv2bB0C",
        "outputId": "7fdd11e4-60cb-4099-e5c5-78f5f4554e1f"
      },
      "execution_count": null,
      "outputs": [
        {
          "output_type": "stream",
          "name": "stdout",
          "text": [
            "[[ 5 12]\n",
            " [21 32]]\n",
            "[[ 5 12]\n",
            " [21 32]]\n"
          ]
        }
      ]
    },
    {
      "cell_type": "code",
      "source": [
        "print(x.dot(y))"
      ],
      "metadata": {
        "colab": {
          "base_uri": "https://localhost:8080/"
        },
        "id": "tUqtOsrCbXok",
        "outputId": "1e26b1b5-043b-4eb7-e4c5-cea2be6bc26e"
      },
      "execution_count": null,
      "outputs": [
        {
          "output_type": "stream",
          "name": "stdout",
          "text": [
            "[[19 22]\n",
            " [43 50]]\n"
          ]
        }
      ]
    },
    {
      "cell_type": "code",
      "source": [
        "# Elementwise division; both produce the array\n",
        "# [[ 0.2 0.33333333]\n",
        "# [ 0.42857143 0.5 ]]\n",
        "print(x / y)\n",
        "print(np.divide(x, y))"
      ],
      "metadata": {
        "colab": {
          "base_uri": "https://localhost:8080/"
        },
        "id": "FYRHHf2ib4Yy",
        "outputId": "c9099783-238c-4403-9bba-3e23a095628d"
      },
      "execution_count": null,
      "outputs": [
        {
          "output_type": "stream",
          "name": "stdout",
          "text": [
            "[[0.2        0.33333333]\n",
            " [0.42857143 0.5       ]]\n",
            "[[0.2        0.33333333]\n",
            " [0.42857143 0.5       ]]\n"
          ]
        }
      ]
    },
    {
      "cell_type": "code",
      "source": [
        "# Elementwise square root; produces the array\n",
        "print(np.sqrt(y))"
      ],
      "metadata": {
        "colab": {
          "base_uri": "https://localhost:8080/"
        },
        "id": "Le0pCUQCb_kK",
        "outputId": "4351894b-81a4-454b-e3b0-bff9109a2643"
      },
      "execution_count": null,
      "outputs": [
        {
          "output_type": "stream",
          "name": "stdout",
          "text": [
            "[[2.23606798 2.44948974]\n",
            " [2.64575131 2.82842712]]\n"
          ]
        }
      ]
    },
    {
      "cell_type": "code",
      "source": [
        "#-------------------- Exercise: --------------------------------\n",
        "\n",
        "#1)\n",
        "arr1 = np.array([[1,2,3,4,6],[1,2,3,4,6],[6,7,8,9,0],[6,7,8,9,0]])\n",
        "print(arr1)\n",
        "\n",
        "#2)\n",
        "arr2 = np.array([[1,2,3,4],[1,2,3,4],[6,7,8,9],[6,7,8,9],[0,1,2,3]])\n",
        "print(arr2)\n",
        "\n",
        "#3)\n",
        "print(arr1.dot(arr2))\n",
        "\n",
        "#4)\n",
        "# print(arr1 * arr2)\n",
        "\n",
        "#5)\n",
        "print(np.mean(arr1))\n",
        "\n",
        "print(np.median(arr1))\n",
        "\n",
        "#6)\n",
        "print(arr1.T)\n",
        "\n",
        "square = np.array([[1,2],[3,4]])\n",
        "print(np.linalg.det(square))\n"
      ],
      "metadata": {
        "colab": {
          "base_uri": "https://localhost:8080/"
        },
        "id": "Hs6e6_v9hjBM",
        "outputId": "f8bd44f3-6678-4e49-b4a7-1c28da474ed2"
      },
      "execution_count": null,
      "outputs": [
        {
          "output_type": "stream",
          "name": "stdout",
          "text": [
            "[[1 2 3 4 6]\n",
            " [1 2 3 4 6]\n",
            " [6 7 8 9 0]\n",
            " [6 7 8 9 0]]\n",
            "[[1 2 3 4]\n",
            " [1 2 3 4]\n",
            " [6 7 8 9]\n",
            " [6 7 8 9]\n",
            " [0 1 2 3]]\n",
            "[[ 45  61  77  93]\n",
            " [ 45  61  77  93]\n",
            " [115 145 175 205]\n",
            " [115 145 175 205]]\n",
            "4.6\n",
            "5.0\n",
            "[[1 1 6 6]\n",
            " [2 2 7 7]\n",
            " [3 3 8 8]\n",
            " [4 4 9 9]\n",
            " [6 6 0 0]]\n",
            "-2.0000000000000004\n"
          ]
        }
      ]
    },
    {
      "cell_type": "code",
      "source": [
        "import nltk\n",
        "from nltk.corpus import twitter_samples\n",
        "import matplotlib.pyplot as plt \n",
        "import random"
      ],
      "metadata": {
        "id": "JgMaZYeAo4gC"
      },
      "execution_count": null,
      "outputs": []
    },
    {
      "cell_type": "code",
      "source": [
        "fig = plt.figure(figsize=(5, 5))\n",
        "labels = 'ML-HAP-Lec', 'ML-SPS-Lec','ML-HAP-Lab','ML-SPS-Lab'\n",
        "sizes = [35, 35, 15,15]\n",
        "\n",
        "plt.pie(sizes, labels=labels, autopct='%.2f%%',\n",
        "shadow=True, startangle=90)\n",
        "\n",
        "plt.axis('equal')\n",
        "\n",
        "plt.show()"
      ],
      "metadata": {
        "colab": {
          "base_uri": "https://localhost:8080/",
          "height": 307
        },
        "id": "11-bAegvpFUJ",
        "outputId": "59f7d77d-2cc4-43cd-f123-88f040c8c5ca"
      },
      "execution_count": null,
      "outputs": [
        {
          "output_type": "display_data",
          "data": {
            "text/plain": [
              "<Figure size 360x360 with 1 Axes>"
            ],
            "image/png": "[encoded data removed]"
          },
          "metadata": {}
        }
      ]
    },
    {
      "cell_type": "code",
      "source": [
        "import re\n",
        "import string \n",
        "from nltk.corpus import stopwords \n",
        "from nltk.stem import PorterStemmer \n",
        "from nltk.tokenize import TweetTokenizer \n",
        "from nltk.stem import WordNetLemmatizer\n",
        "\n",
        "tweet = \"hash removed from string####\"\n",
        "tweet2 = re.sub(r'#','',tweet)\n",
        "print('\\033[93m' + tweet2)"
      ],
      "metadata": {
        "colab": {
          "base_uri": "https://localhost:8080/"
        },
        "id": "AD4xHNXitAyi",
        "outputId": "81051b11-7787-42df-d00f-628512867eeb"
      },
      "execution_count": null,
      "outputs": [
        {
          "output_type": "stream",
          "name": "stdout",
          "text": [
            "\u001b[93mhash removed from string\n"
          ]
        }
      ]
    },
    {
      "cell_type": "code",
      "source": [],
      "metadata": {
        "id": "iNt23tnDuv8E"
      },
      "execution_count": null,
      "outputs": []
    }
  ]
}