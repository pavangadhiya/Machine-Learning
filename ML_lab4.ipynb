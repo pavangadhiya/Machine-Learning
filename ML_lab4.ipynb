{
  "nbformat": 4,
  "nbformat_minor": 0,
  "metadata": {
    "colab": {
      "provenance": [],
      "authorship_tag": "ABX9TyNcptrGRvN5ZqAc5Ens8vYm",
      "include_colab_link": true
    },
    "kernelspec": {
      "name": "python3",
      "display_name": "Python 3"
    },
    "language_info": {
      "name": "python"
    }
  },
  "cells": [
    {
      "cell_type": "markdown",
      "metadata": {
        "id": "view-in-github",
        "colab_type": "text"
      },
      "source": [
        "<a href=\"https://colab.research.google.com/github/pavangadhiya/Machine-Learning/blob/main/ML_lab4.ipynb\" target=\"_parent\"><img src=\"https://colab.research.google.com/assets/colab-badge.svg\" alt=\"Open In Colab\"/></a>"
      ]
    },
    {
      "cell_type": "code",
      "execution_count": null,
      "metadata": {
        "id": "EnoDoCHsf2dQ"
      },
      "outputs": [],
      "source": [
        "# Import Numpy & PyTorch\n",
        "import numpy as np\n",
        "import torch"
      ]
    },
    {
      "cell_type": "code",
      "source": [
        "#features: Temp Rain Humidity\n",
        "inputs = np.array([[73, 67, 43],\n",
        "[91, 88, 64],\n",
        "[87, 134, 58],\n",
        "[102, 43, 37],\n",
        "[69, 96, 70]], dtype='float32')\n",
        "\n",
        "targets = np.array([[56],\n",
        "[81],\n",
        "[119],\n",
        "[22],\n",
        "[103]], dtype='float32')\n",
        "\n",
        "w = np.array([[0],[1],[0.5]],dtype='float32')\n",
        "\n",
        "bias = 0.5\n",
        "alpha = 0.5\n",
        "\n",
        "# finding no of rows(parameters)\n",
        "m = np.shape(inputs)[0] "
      ],
      "metadata": {
        "id": "zuf9kQW5k3fP"
      },
      "execution_count": null,
      "outputs": []
    },
    {
      "cell_type": "code",
      "source": [
        "#converting to PyTorch tensors\n",
        "\n",
        "inputs = torch.tensor(inputs)\n",
        "targets = torch.tensor(targets)\n",
        "\n",
        "weigth = torch.tensor(w)"
      ],
      "metadata": {
        "id": "w3vMu7WCv4WY"
      },
      "execution_count": null,
      "outputs": []
    },
    {
      "cell_type": "code",
      "source": [
        "h = torch.matmul(inputs,weigth)\n",
        "h = torch.add(h,bias)\n",
        "\n",
        "print(h)"
      ],
      "metadata": {
        "colab": {
          "base_uri": "https://localhost:8080/"
        },
        "id": "jEI-0cHiwmzJ",
        "outputId": "8f2a797c-463f-4751-c0e1-7fcfd0979d61"
      },
      "execution_count": null,
      "outputs": [
        {
          "output_type": "stream",
          "name": "stdout",
          "text": [
            "tensor([[ 89.0000],\n",
            "        [120.5000],\n",
            "        [163.5000],\n",
            "        [ 62.0000],\n",
            "        [131.5000]])\n"
          ]
        }
      ]
    },
    {
      "cell_type": "code",
      "source": [
        "# calculating loss\n",
        "l = torch.sub(h,targets)\n",
        "\n",
        "for i in range(5):\n",
        "  loss = l[i]*l[i]\n",
        "\n",
        "\n",
        "loss = torch.sum(l)\n",
        "print(loss)"
      ],
      "metadata": {
        "colab": {
          "base_uri": "https://localhost:8080/"
        },
        "id": "BnPnf8cI0QIA",
        "outputId": "50a55d5e-6301-4d47-a5fd-b5d1333a4913"
      },
      "execution_count": null,
      "outputs": [
        {
          "output_type": "stream",
          "name": "stdout",
          "text": [
            "tensor(185.5000)\n"
          ]
        }
      ]
    },
    {
      "cell_type": "code",
      "source": [
        "for i in range(1,1000):\n",
        "  Q0 = Q0 - (alpha/m). torch.sum(l)"
      ],
      "metadata": {
        "id": "Shqepxvw0qtx"
      },
      "execution_count": null,
      "outputs": []
    },
    {
      "cell_type": "markdown",
      "source": [],
      "metadata": {
        "id": "OnzbU63qu61J"
      }
    }
  ]
}